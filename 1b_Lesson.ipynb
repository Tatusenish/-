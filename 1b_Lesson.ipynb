{
 "cells": [
  {
   "cell_type": "code",
   "execution_count": 1,
   "metadata": {},
   "outputs": [],
   "source": [
    "import requests\n",
    "import json\n",
    "import pprint"
   ]
  },
  {
   "cell_type": "code",
   "execution_count": 2,
   "metadata": {},
   "outputs": [],
   "source": [
    "url = 'https://api.stormglass.io/v2/weather/point'"
   ]
  },
  {
   "cell_type": "code",
   "execution_count": 3,
   "metadata": {},
   "outputs": [],
   "source": [
    "response = requests.get('https://api.stormglass.io/v2/weather/point')"
   ]
  },
  {
   "cell_type": "code",
   "execution_count": 4,
   "metadata": {},
   "outputs": [],
   "source": [
    "appid = '74354dcc-eb00-11ea-9d9b-0242ac130002-74354e80-eb00-11ea-9d9b-0242ac130002'"
   ]
  },
  {
   "cell_type": "code",
   "execution_count": 5,
   "metadata": {},
   "outputs": [],
   "source": [
    "params = {'lat': 73.500, 'lng': 80.400, 'params': ','.join(['waveHeight', 'airTemperature'])}, #lat lng - координаты"
   ]
  },
  {
   "cell_type": "code",
   "execution_count": 6,
   "metadata": {},
   "outputs": [],
   "source": [
    "headers = { 'Authorization': 'example-api-key'}"
   ]
  },
  {
   "cell_type": "code",
   "execution_count": 7,
   "metadata": {},
   "outputs": [],
   "source": [
    "json_data = response.json()"
   ]
  },
  {
   "cell_type": "code",
   "execution_count": 9,
   "metadata": {},
   "outputs": [
    {
     "name": "stdout",
     "output_type": "stream",
     "text": [
      "{'errors': {'lat': ['Missing data for required field.'], 'lng': ['Missing data for required field.'], 'params': ['You need to specifiy at least one parameter: waterTemperature, wavePeriod, waveDirection, waveHeight, windWaveDirection, windWaveHeight, windWavePeriod, swellPeriod, secondarySwellPeriod, swellDirection, secondarySwellDirection, swellHeight, secondarySwellHeight, windSpeed, windSpeed20m, windSpeed30m, windSpeed40m, windSpeed50m, windSpeed80m, windSpeed100m, windSpeed1000hpa, windSpeed800hpa, windSpeed500hpa, windSpeed200hpa, windDirection, windDirection20m, windDirection30m, windDirection40m, windDirection50m, windDirection80m, windDirection100m, windDirection1000hpa, windDirection800hpa, windDirection500hpa, windDirection200hpa, airTemperature, airTemperature80m, airTemperature100m, airTemperature1000hpa, airTemperature800hpa, airTemperature500hpa, airTemperature200hpa, precipitation, gust, cloudCover, humidity, pressure, visibility, currentSpeed, currentDirection, iceCover, snowDepth, seaLevel']}}\n"
     ]
    }
   ],
   "source": [
    "print(json_data)"
   ]
  },
  {
   "cell_type": "code",
   "execution_count": null,
   "metadata": {},
   "outputs": [],
   "source": []
  }
 ],
 "metadata": {
  "kernelspec": {
   "display_name": "Python 3",
   "language": "python",
   "name": "python3"
  },
  "language_info": {
   "codemirror_mode": {
    "name": "ipython",
    "version": 3
   },
   "file_extension": ".py",
   "mimetype": "text/x-python",
   "name": "python",
   "nbconvert_exporter": "python",
   "pygments_lexer": "ipython3",
   "version": "3.8.3"
  }
 },
 "nbformat": 4,
 "nbformat_minor": 4
}
